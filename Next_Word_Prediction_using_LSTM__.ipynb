{
  "nbformat": 4,
  "nbformat_minor": 0,
  "metadata": {
    "colab": {
      "provenance": [],
      "gpuType": "T4"
    },
    "kernelspec": {
      "name": "python3",
      "display_name": "Python 3"
    },
    "language_info": {
      "name": "python"
    },
    "accelerator": "GPU"
  },
  "cells": [
    {
      "cell_type": "code",
      "source": [
        "\n",
        "import tensorflow as tf\n",
        "print(tf.__version__)\n",
        "from tensorflow.keras.utils import plot_model\n"
      ],
      "metadata": {
        "colab": {
          "base_uri": "https://localhost:8080/"
        },
        "id": "VFe9WqVWMC3s",
        "outputId": "799ed8b0-8bdb-4116-9998-e6850e284b9e"
      },
      "execution_count": 5,
      "outputs": [
        {
          "output_type": "stream",
          "name": "stdout",
          "text": [
            "2.15.0\n"
          ]
        }
      ]
    },
    {
      "cell_type": "code",
      "source": [
        "import numpy as np\n",
        "import re\n",
        "import string\n",
        "import pickle\n",
        "from tensorflow.keras.preprocessing.text import Tokenizer\n",
        "from tensorflow.keras.models import Sequential\n",
        "from tensorflow.keras.layers import Embedding, LSTM, Dense, Dropout\n",
        "from tensorflow.keras.regularizers import l2\n",
        "from tensorflow.keras.utils import to_categorical\n",
        "from tensorflow.keras.callbacks import ModelCheckpoint, EarlyStopping, ReduceLROnPlateau\n",
        "from tensorflow.keras.optimizers import Adam\n",
        "from nltk.corpus import stopwords\n",
        "from nltk.tokenize import word_tokenize\n",
        "import nltk\n"
      ],
      "metadata": {
        "id": "L1KVIPlwMC6b"
      },
      "execution_count": 6,
      "outputs": []
    },
    {
      "cell_type": "code",
      "source": [
        "\n",
        "from google.colab import files\n",
        "uploaded = files.upload()\n"
      ],
      "metadata": {
        "colab": {
          "base_uri": "https://localhost:8080/",
          "height": 73
        },
        "id": "MsbH2nhIMC83",
        "outputId": "357de2b1-ec09-4e5b-e75e-13d04ae4abf0"
      },
      "execution_count": 7,
      "outputs": [
        {
          "output_type": "display_data",
          "data": {
            "text/plain": [
              "<IPython.core.display.HTML object>"
            ],
            "text/html": [
              "\n",
              "     <input type=\"file\" id=\"files-62f200aa-91ff-4ea7-8e8e-2e623ca99545\" name=\"files[]\" multiple disabled\n",
              "        style=\"border:none\" />\n",
              "     <output id=\"result-62f200aa-91ff-4ea7-8e8e-2e623ca99545\">\n",
              "      Upload widget is only available when the cell has been executed in the\n",
              "      current browser session. Please rerun this cell to enable.\n",
              "      </output>\n",
              "      <script>// Copyright 2017 Google LLC\n",
              "//\n",
              "// Licensed under the Apache License, Version 2.0 (the \"License\");\n",
              "// you may not use this file except in compliance with the License.\n",
              "// You may obtain a copy of the License at\n",
              "//\n",
              "//      http://www.apache.org/licenses/LICENSE-2.0\n",
              "//\n",
              "// Unless required by applicable law or agreed to in writing, software\n",
              "// distributed under the License is distributed on an \"AS IS\" BASIS,\n",
              "// WITHOUT WARRANTIES OR CONDITIONS OF ANY KIND, either express or implied.\n",
              "// See the License for the specific language governing permissions and\n",
              "// limitations under the License.\n",
              "\n",
              "/**\n",
              " * @fileoverview Helpers for google.colab Python module.\n",
              " */\n",
              "(function(scope) {\n",
              "function span(text, styleAttributes = {}) {\n",
              "  const element = document.createElement('span');\n",
              "  element.textContent = text;\n",
              "  for (const key of Object.keys(styleAttributes)) {\n",
              "    element.style[key] = styleAttributes[key];\n",
              "  }\n",
              "  return element;\n",
              "}\n",
              "\n",
              "// Max number of bytes which will be uploaded at a time.\n",
              "const MAX_PAYLOAD_SIZE = 100 * 1024;\n",
              "\n",
              "function _uploadFiles(inputId, outputId) {\n",
              "  const steps = uploadFilesStep(inputId, outputId);\n",
              "  const outputElement = document.getElementById(outputId);\n",
              "  // Cache steps on the outputElement to make it available for the next call\n",
              "  // to uploadFilesContinue from Python.\n",
              "  outputElement.steps = steps;\n",
              "\n",
              "  return _uploadFilesContinue(outputId);\n",
              "}\n",
              "\n",
              "// This is roughly an async generator (not supported in the browser yet),\n",
              "// where there are multiple asynchronous steps and the Python side is going\n",
              "// to poll for completion of each step.\n",
              "// This uses a Promise to block the python side on completion of each step,\n",
              "// then passes the result of the previous step as the input to the next step.\n",
              "function _uploadFilesContinue(outputId) {\n",
              "  const outputElement = document.getElementById(outputId);\n",
              "  const steps = outputElement.steps;\n",
              "\n",
              "  const next = steps.next(outputElement.lastPromiseValue);\n",
              "  return Promise.resolve(next.value.promise).then((value) => {\n",
              "    // Cache the last promise value to make it available to the next\n",
              "    // step of the generator.\n",
              "    outputElement.lastPromiseValue = value;\n",
              "    return next.value.response;\n",
              "  });\n",
              "}\n",
              "\n",
              "/**\n",
              " * Generator function which is called between each async step of the upload\n",
              " * process.\n",
              " * @param {string} inputId Element ID of the input file picker element.\n",
              " * @param {string} outputId Element ID of the output display.\n",
              " * @return {!Iterable<!Object>} Iterable of next steps.\n",
              " */\n",
              "function* uploadFilesStep(inputId, outputId) {\n",
              "  const inputElement = document.getElementById(inputId);\n",
              "  inputElement.disabled = false;\n",
              "\n",
              "  const outputElement = document.getElementById(outputId);\n",
              "  outputElement.innerHTML = '';\n",
              "\n",
              "  const pickedPromise = new Promise((resolve) => {\n",
              "    inputElement.addEventListener('change', (e) => {\n",
              "      resolve(e.target.files);\n",
              "    });\n",
              "  });\n",
              "\n",
              "  const cancel = document.createElement('button');\n",
              "  inputElement.parentElement.appendChild(cancel);\n",
              "  cancel.textContent = 'Cancel upload';\n",
              "  const cancelPromise = new Promise((resolve) => {\n",
              "    cancel.onclick = () => {\n",
              "      resolve(null);\n",
              "    };\n",
              "  });\n",
              "\n",
              "  // Wait for the user to pick the files.\n",
              "  const files = yield {\n",
              "    promise: Promise.race([pickedPromise, cancelPromise]),\n",
              "    response: {\n",
              "      action: 'starting',\n",
              "    }\n",
              "  };\n",
              "\n",
              "  cancel.remove();\n",
              "\n",
              "  // Disable the input element since further picks are not allowed.\n",
              "  inputElement.disabled = true;\n",
              "\n",
              "  if (!files) {\n",
              "    return {\n",
              "      response: {\n",
              "        action: 'complete',\n",
              "      }\n",
              "    };\n",
              "  }\n",
              "\n",
              "  for (const file of files) {\n",
              "    const li = document.createElement('li');\n",
              "    li.append(span(file.name, {fontWeight: 'bold'}));\n",
              "    li.append(span(\n",
              "        `(${file.type || 'n/a'}) - ${file.size} bytes, ` +\n",
              "        `last modified: ${\n",
              "            file.lastModifiedDate ? file.lastModifiedDate.toLocaleDateString() :\n",
              "                                    'n/a'} - `));\n",
              "    const percent = span('0% done');\n",
              "    li.appendChild(percent);\n",
              "\n",
              "    outputElement.appendChild(li);\n",
              "\n",
              "    const fileDataPromise = new Promise((resolve) => {\n",
              "      const reader = new FileReader();\n",
              "      reader.onload = (e) => {\n",
              "        resolve(e.target.result);\n",
              "      };\n",
              "      reader.readAsArrayBuffer(file);\n",
              "    });\n",
              "    // Wait for the data to be ready.\n",
              "    let fileData = yield {\n",
              "      promise: fileDataPromise,\n",
              "      response: {\n",
              "        action: 'continue',\n",
              "      }\n",
              "    };\n",
              "\n",
              "    // Use a chunked sending to avoid message size limits. See b/62115660.\n",
              "    let position = 0;\n",
              "    do {\n",
              "      const length = Math.min(fileData.byteLength - position, MAX_PAYLOAD_SIZE);\n",
              "      const chunk = new Uint8Array(fileData, position, length);\n",
              "      position += length;\n",
              "\n",
              "      const base64 = btoa(String.fromCharCode.apply(null, chunk));\n",
              "      yield {\n",
              "        response: {\n",
              "          action: 'append',\n",
              "          file: file.name,\n",
              "          data: base64,\n",
              "        },\n",
              "      };\n",
              "\n",
              "      let percentDone = fileData.byteLength === 0 ?\n",
              "          100 :\n",
              "          Math.round((position / fileData.byteLength) * 100);\n",
              "      percent.textContent = `${percentDone}% done`;\n",
              "\n",
              "    } while (position < fileData.byteLength);\n",
              "  }\n",
              "\n",
              "  // All done.\n",
              "  yield {\n",
              "    response: {\n",
              "      action: 'complete',\n",
              "    }\n",
              "  };\n",
              "}\n",
              "\n",
              "scope.google = scope.google || {};\n",
              "scope.google.colab = scope.google.colab || {};\n",
              "scope.google.colab._files = {\n",
              "  _uploadFiles,\n",
              "  _uploadFilesContinue,\n",
              "};\n",
              "})(self);\n",
              "</script> "
            ]
          },
          "metadata": {}
        },
        {
          "output_type": "stream",
          "name": "stdout",
          "text": [
            "Saving blue_castle.txt to blue_castle (1).txt\n"
          ]
        }
      ]
    },
    {
      "cell_type": "code",
      "source": [
        "file = open(\"blue_castle.txt\", \"r\", encoding = \"utf8\" )\n",
        "\n",
        "#store file in list\n",
        "lines = []\n",
        "for i in file:\n",
        "     lines.append(i)\n",
        "\n",
        "#Convert list to string\n",
        "data = \"\"\n",
        "for i in lines:\n",
        "    data = '  '. join(lines)\n",
        "\n",
        "#replace unnecessary stuff with space\n",
        "data = data.replace('\\n', '').replace('\\r', '').replace('\\ufeff', '').replace('“','').replace('”','')  #new line, carriage return, unicode character --> replace by space\n",
        "\n",
        "#remove unnecessary spaces\n",
        "data = data.split()\n",
        "data = ' '.join(data)\n",
        "data[:500]"
      ],
      "metadata": {
        "colab": {
          "base_uri": "https://localhost:8080/",
          "height": 88
        },
        "id": "xwr3luQ5MC_e",
        "outputId": "f1420d84-fd9a-4a9a-a25d-8e28fd38213f"
      },
      "execution_count": 8,
      "outputs": [
        {
          "output_type": "execute_result",
          "data": {
            "text/plain": [
              "'The Project Gutenberg eBook of The Blue Castle, by Lucy Maud Montgomery This eBook is for the use of anyone anywhere in the United States and most other parts of the world at no cost and with almost no restrictions whatsoever. You may copy it, give it away or re-use it under the terms of the Project Gutenberg License included with this eBook or online at www.gutenberg.org. If you are not located in the United States, you will have to check the laws of the country where you are located before usi'"
            ],
            "application/vnd.google.colaboratory.intrinsic+json": {
              "type": "string"
            }
          },
          "metadata": {},
          "execution_count": 8
        }
      ]
    },
    {
      "cell_type": "code",
      "source": [
        "len(data)\n"
      ],
      "metadata": {
        "colab": {
          "base_uri": "https://localhost:8080/"
        },
        "id": "jWEq6TaEMDB_",
        "outputId": "e354e48c-a588-4599-91ed-f5185cf709d7"
      },
      "execution_count": 9,
      "outputs": [
        {
          "output_type": "execute_result",
          "data": {
            "text/plain": [
              "402906"
            ]
          },
          "metadata": {},
          "execution_count": 9
        }
      ]
    },
    {
      "cell_type": "code",
      "source": [
        "tokenizer = Tokenizer()\n",
        "tokenizer.fit_on_texts([data])\n",
        "\n",
        "#saving the tokenizer for predict function\n",
        "pickle.dump(tokenizer, open('token.pkl','wb'))\n",
        "\n",
        "sequence_data = tokenizer.texts_to_sequences([data])[0]\n",
        "sequence_data[:15]"
      ],
      "metadata": {
        "colab": {
          "base_uri": "https://localhost:8080/"
        },
        "id": "gMDsxmPeMDEe",
        "outputId": "7f2843f2-315b-4cf5-bd41-fe16054834c5"
      },
      "execution_count": 10,
      "outputs": [
        {
          "output_type": "execute_result",
          "data": {
            "text/plain": [
              "[1, 112, 97, 587, 4, 1, 94, 147, 58, 2383, 2384, 1818, 51, 587, 42]"
            ]
          },
          "metadata": {},
          "execution_count": 10
        }
      ]
    },
    {
      "cell_type": "code",
      "source": [
        "len(sequence_data)\n"
      ],
      "metadata": {
        "colab": {
          "base_uri": "https://localhost:8080/"
        },
        "id": "A4LMYmIkMDHR",
        "outputId": "5e693484-42af-4867-ff52-75ae8813cf74"
      },
      "execution_count": 11,
      "outputs": [
        {
          "output_type": "execute_result",
          "data": {
            "text/plain": [
              "72052"
            ]
          },
          "metadata": {},
          "execution_count": 11
        }
      ]
    },
    {
      "cell_type": "code",
      "source": [
        "\n",
        "vocab_size = len(tokenizer.word_index) + 1\n",
        "print(vocab_size)\n"
      ],
      "metadata": {
        "colab": {
          "base_uri": "https://localhost:8080/"
        },
        "id": "Jq0WPg_4MDJu",
        "outputId": "6c8450ff-abfd-48b1-bdd5-03c425744091"
      },
      "execution_count": 12,
      "outputs": [
        {
          "output_type": "stream",
          "name": "stdout",
          "text": [
            "8413\n"
          ]
        }
      ]
    },
    {
      "cell_type": "code",
      "source": [
        "sequences = []\n",
        "\n",
        "for i in range (3, len(sequence_data)):\n",
        "  words = sequence_data[i-3:i+1]\n",
        "  sequences.append(words)\n",
        "\n",
        "print(\"The Length if sequences are:\" , len(sequences))\n",
        "sequences = np.array(sequences)\n",
        "sequences[:10]"
      ],
      "metadata": {
        "colab": {
          "base_uri": "https://localhost:8080/"
        },
        "id": "w1kavwJQMDMQ",
        "outputId": "73a3c27d-81f6-4e0b-b240-a9d849893fc6"
      },
      "execution_count": 13,
      "outputs": [
        {
          "output_type": "stream",
          "name": "stdout",
          "text": [
            "The Length if sequences are: 72049\n"
          ]
        },
        {
          "output_type": "execute_result",
          "data": {
            "text/plain": [
              "array([[   1,  112,   97,  587],\n",
              "       [ 112,   97,  587,    4],\n",
              "       [  97,  587,    4,    1],\n",
              "       [ 587,    4,    1,   94],\n",
              "       [   4,    1,   94,  147],\n",
              "       [   1,   94,  147,   58],\n",
              "       [  94,  147,   58, 2383],\n",
              "       [ 147,   58, 2383, 2384],\n",
              "       [  58, 2383, 2384, 1818],\n",
              "       [2383, 2384, 1818,   51]])"
            ]
          },
          "metadata": {},
          "execution_count": 13
        }
      ]
    },
    {
      "cell_type": "code",
      "source": [
        "\n",
        "X = []\n",
        "y = []\n",
        "\n",
        "for i in sequences:\n",
        "  X.append(i[0:3])\n",
        "  y.append(i[3])\n",
        "\n",
        "X = np.array(X)\n",
        "y = np.array(y)\n"
      ],
      "metadata": {
        "id": "stZfEItnMDPO"
      },
      "execution_count": 14,
      "outputs": []
    },
    {
      "cell_type": "code",
      "source": [
        "print(\"Data:\", X[:10])\n",
        "print(\"Response:\", y[:10])"
      ],
      "metadata": {
        "colab": {
          "base_uri": "https://localhost:8080/"
        },
        "id": "zomvHPKpMDSA",
        "outputId": "812bf9bd-e98e-43c4-bb5e-c733840e5705"
      },
      "execution_count": 15,
      "outputs": [
        {
          "output_type": "stream",
          "name": "stdout",
          "text": [
            "Data: [[   1  112   97]\n",
            " [ 112   97  587]\n",
            " [  97  587    4]\n",
            " [ 587    4    1]\n",
            " [   4    1   94]\n",
            " [   1   94  147]\n",
            " [  94  147   58]\n",
            " [ 147   58 2383]\n",
            " [  58 2383 2384]\n",
            " [2383 2384 1818]]\n",
            "Response: [ 587    4    1   94  147   58 2383 2384 1818   51]\n"
          ]
        }
      ]
    },
    {
      "cell_type": "code",
      "source": [
        "y = to_categorical(y, num_classes=vocab_size)\n",
        "y[:5]\n"
      ],
      "metadata": {
        "colab": {
          "base_uri": "https://localhost:8080/"
        },
        "id": "s11kaUVJMDUu",
        "outputId": "c9600e3b-4532-4a97-d045-1d205744a7d6"
      },
      "execution_count": 16,
      "outputs": [
        {
          "output_type": "execute_result",
          "data": {
            "text/plain": [
              "array([[0., 0., 0., ..., 0., 0., 0.],\n",
              "       [0., 0., 0., ..., 0., 0., 0.],\n",
              "       [0., 1., 0., ..., 0., 0., 0.],\n",
              "       [0., 0., 0., ..., 0., 0., 0.],\n",
              "       [0., 0., 0., ..., 0., 0., 0.]], dtype=float32)"
            ]
          },
          "metadata": {},
          "execution_count": 16
        }
      ]
    },
    {
      "cell_type": "code",
      "source": [
        "model = Sequential()\n",
        "model.add(Embedding(vocab_size, 10, input_length=3))\n",
        "model.add(LSTM(200, return_sequences=True))\n",
        "model.add(LSTM(200))\n",
        "model.add(Dense(1000, activation= \"relu\"))\n",
        "model.add(Dense(vocab_size, activation=\"softmax\"))"
      ],
      "metadata": {
        "id": "PZbkbPFjMDXY"
      },
      "execution_count": 26,
      "outputs": []
    },
    {
      "cell_type": "code",
      "source": [
        "model.summary()\n"
      ],
      "metadata": {
        "colab": {
          "base_uri": "https://localhost:8080/"
        },
        "id": "Jox5lEsMMDaA",
        "outputId": "332b0771-1e8f-42cb-9269-d3e3b44b6c1c"
      },
      "execution_count": 27,
      "outputs": [
        {
          "output_type": "stream",
          "name": "stdout",
          "text": [
            "Model: \"sequential_2\"\n",
            "_________________________________________________________________\n",
            " Layer (type)                Output Shape              Param #   \n",
            "=================================================================\n",
            " embedding_2 (Embedding)     (None, 3, 10)             84130     \n",
            "                                                                 \n",
            " lstm_4 (LSTM)               (None, 3, 200)            168800    \n",
            "                                                                 \n",
            " lstm_5 (LSTM)               (None, 200)               320800    \n",
            "                                                                 \n",
            " dense_3 (Dense)             (None, 1000)              201000    \n",
            "                                                                 \n",
            " dense_4 (Dense)             (None, 8413)              8421413   \n",
            "                                                                 \n",
            "=================================================================\n",
            "Total params: 9196143 (35.08 MB)\n",
            "Trainable params: 9196143 (35.08 MB)\n",
            "Non-trainable params: 0 (0.00 Byte)\n",
            "_________________________________________________________________\n"
          ]
        }
      ]
    },
    {
      "cell_type": "code",
      "source": [
        "from tensorflow import keras\n",
        "\n",
        "plot_model(model, to_file='plot.png', show_layer_names=True)"
      ],
      "metadata": {
        "colab": {
          "base_uri": "https://localhost:8080/",
          "height": 564
        },
        "id": "R4_pXEyCMDcf",
        "outputId": "04683a25-fd68-4755-a442-c009f05f1bff"
      },
      "execution_count": 28,
      "outputs": [
        {
          "output_type": "execute_result",
          "data": {
            "image/png": "[encoded data removed]",
            "text/plain": [
              "<IPython.core.display.Image object>"
            ]
          },
          "metadata": {},
          "execution_count": 28
        }
      ]
    },
    {
      "cell_type": "code",
      "source": [
        "model.compile(loss=\"categorical_crossentropy\", optimizer=Adam(learning_rate=0.001), metrics=['accuracy'])"
      ],
      "metadata": {
        "id": "dwFx50K7MDfA"
      },
      "execution_count": 29,
      "outputs": []
    },
    {
      "cell_type": "code",
      "source": [
        "# Set up callbacks\n",
        "checkpoint = ModelCheckpoint(\"next_word.h5\", monitor='loss', verbose=1, save_best_only=True)\n",
        "early_stopping = EarlyStopping(monitor='loss', patience=3, verbose=1)\n",
        "reduce_lr = ReduceLROnPlateau(monitor='loss', factor=0.2, patience=2, verbose=1)\n",
        "\n",
        "# Train model\n",
        "model.fit(X, y, epochs=80, batch_size=64, callbacks=[checkpoint, early_stopping, reduce_lr])\n",
        "\n",
        "# Save tokenizer for future use"
      ],
      "metadata": {
        "colab": {
          "base_uri": "https://localhost:8080/"
        },
        "id": "s3Rd-xcGMDh3",
        "outputId": "ad22d369-5e0f-40a6-c8ee-746bc291c23f"
      },
      "execution_count": 30,
      "outputs": [
        {
          "output_type": "stream",
          "name": "stdout",
          "text": [
            "Epoch 1/80\n",
            "1126/1126 [==============================] - ETA: 0s - loss: 6.8355 - accuracy: 0.0374\n",
            "Epoch 1: loss improved from inf to 6.83549, saving model to next_word.h5\n",
            "1126/1126 [==============================] - 23s 17ms/step - loss: 6.8355 - accuracy: 0.0374 - lr: 0.0010\n",
            "Epoch 2/80\n",
            "1126/1126 [==============================] - ETA: 0s - loss: 6.3826 - accuracy: 0.0543\n",
            "Epoch 2: loss improved from 6.83549 to 6.38262, saving model to next_word.h5\n",
            "1126/1126 [==============================] - 16s 14ms/step - loss: 6.3826 - accuracy: 0.0543 - lr: 0.0010\n",
            "Epoch 3/80\n",
            "1126/1126 [==============================] - ETA: 0s - loss: 6.0096 - accuracy: 0.0838\n",
            "Epoch 3: loss improved from 6.38262 to 6.00956, saving model to next_word.h5\n",
            "1126/1126 [==============================] - 16s 14ms/step - loss: 6.0096 - accuracy: 0.0838 - lr: 0.0010\n",
            "Epoch 4/80\n",
            "1126/1126 [==============================] - ETA: 0s - loss: 5.6731 - accuracy: 0.1028\n",
            "Epoch 4: loss improved from 6.00956 to 5.67311, saving model to next_word.h5\n",
            "1126/1126 [==============================] - 16s 14ms/step - loss: 5.6731 - accuracy: 0.1028 - lr: 0.0010\n",
            "Epoch 5/80\n",
            "1126/1126 [==============================] - ETA: 0s - loss: 5.4032 - accuracy: 0.1174\n",
            "Epoch 5: loss improved from 5.67311 to 5.40323, saving model to next_word.h5\n",
            "1126/1126 [==============================] - 16s 14ms/step - loss: 5.4032 - accuracy: 0.1174 - lr: 0.0010\n",
            "Epoch 6/80\n",
            "1124/1126 [============================>.] - ETA: 0s - loss: 5.1668 - accuracy: 0.1301\n",
            "Epoch 6: loss improved from 5.40323 to 5.16604, saving model to next_word.h5\n",
            "1126/1126 [==============================] - 16s 14ms/step - loss: 5.1660 - accuracy: 0.1301 - lr: 0.0010\n",
            "Epoch 7/80\n",
            "1126/1126 [==============================] - ETA: 0s - loss: 4.9390 - accuracy: 0.1415\n",
            "Epoch 7: loss improved from 5.16604 to 4.93903, saving model to next_word.h5\n",
            "1126/1126 [==============================] - 16s 14ms/step - loss: 4.9390 - accuracy: 0.1415 - lr: 0.0010\n",
            "Epoch 8/80\n",
            "1126/1126 [==============================] - ETA: 0s - loss: 4.7096 - accuracy: 0.1523\n",
            "Epoch 8: loss improved from 4.93903 to 4.70959, saving model to next_word.h5\n",
            "1126/1126 [==============================] - 16s 14ms/step - loss: 4.7096 - accuracy: 0.1523 - lr: 0.0010\n",
            "Epoch 9/80\n",
            "1126/1126 [==============================] - ETA: 0s - loss: 4.4654 - accuracy: 0.1652\n",
            "Epoch 9: loss improved from 4.70959 to 4.46542, saving model to next_word.h5\n",
            "1126/1126 [==============================] - 15s 14ms/step - loss: 4.4654 - accuracy: 0.1652 - lr: 0.0010\n",
            "Epoch 10/80\n",
            "1123/1126 [============================>.] - ETA: 0s - loss: 4.2051 - accuracy: 0.1788\n",
            "Epoch 10: loss improved from 4.46542 to 4.20511, saving model to next_word.h5\n",
            "1126/1126 [==============================] - 15s 13ms/step - loss: 4.2051 - accuracy: 0.1789 - lr: 0.0010\n",
            "Epoch 11/80\n",
            "1124/1126 [============================>.] - ETA: 0s - loss: 3.9321 - accuracy: 0.1989\n",
            "Epoch 11: loss improved from 4.20511 to 3.93206, saving model to next_word.h5\n",
            "1126/1126 [==============================] - 15s 14ms/step - loss: 3.9321 - accuracy: 0.1989 - lr: 0.0010\n",
            "Epoch 12/80\n",
            "1124/1126 [============================>.] - ETA: 0s - loss: 3.6644 - accuracy: 0.2292\n",
            "Epoch 12: loss improved from 3.93206 to 3.66412, saving model to next_word.h5\n",
            "1126/1126 [==============================] - 16s 14ms/step - loss: 3.6641 - accuracy: 0.2293 - lr: 0.0010\n",
            "Epoch 13/80\n",
            "1125/1126 [============================>.] - ETA: 0s - loss: 3.4133 - accuracy: 0.2633\n",
            "Epoch 13: loss improved from 3.66412 to 3.41359, saving model to next_word.h5\n",
            "1126/1126 [==============================] - 16s 14ms/step - loss: 3.4136 - accuracy: 0.2633 - lr: 0.0010\n",
            "Epoch 14/80\n",
            "1123/1126 [============================>.] - ETA: 0s - loss: 3.1892 - accuracy: 0.2985\n",
            "Epoch 14: loss improved from 3.41359 to 3.18881, saving model to next_word.h5\n",
            "1126/1126 [==============================] - 16s 14ms/step - loss: 3.1888 - accuracy: 0.2985 - lr: 0.0010\n",
            "Epoch 15/80\n",
            "1123/1126 [============================>.] - ETA: 0s - loss: 2.9897 - accuracy: 0.3282\n",
            "Epoch 15: loss improved from 3.18881 to 2.98980, saving model to next_word.h5\n",
            "1126/1126 [==============================] - 16s 14ms/step - loss: 2.9898 - accuracy: 0.3282 - lr: 0.0010\n",
            "Epoch 16/80\n",
            "1126/1126 [==============================] - ETA: 0s - loss: 2.8159 - accuracy: 0.3557\n",
            "Epoch 16: loss improved from 2.98980 to 2.81587, saving model to next_word.h5\n",
            "1126/1126 [==============================] - 16s 14ms/step - loss: 2.8159 - accuracy: 0.3557 - lr: 0.0010\n",
            "Epoch 17/80\n",
            "1126/1126 [==============================] - ETA: 0s - loss: 2.6544 - accuracy: 0.3849\n",
            "Epoch 17: loss improved from 2.81587 to 2.65443, saving model to next_word.h5\n",
            "1126/1126 [==============================] - 16s 14ms/step - loss: 2.6544 - accuracy: 0.3849 - lr: 0.0010\n",
            "Epoch 18/80\n",
            "1123/1126 [============================>.] - ETA: 0s - loss: 2.5034 - accuracy: 0.4092\n",
            "Epoch 18: loss improved from 2.65443 to 2.50309, saving model to next_word.h5\n",
            "1126/1126 [==============================] - 15s 14ms/step - loss: 2.5031 - accuracy: 0.4092 - lr: 0.0010\n",
            "Epoch 19/80\n",
            "1126/1126 [==============================] - ETA: 0s - loss: 2.3657 - accuracy: 0.4341\n",
            "Epoch 19: loss improved from 2.50309 to 2.36570, saving model to next_word.h5\n",
            "1126/1126 [==============================] - 15s 14ms/step - loss: 2.3657 - accuracy: 0.4341 - lr: 0.0010\n",
            "Epoch 20/80\n",
            "1126/1126 [==============================] - ETA: 0s - loss: 2.2402 - accuracy: 0.4578\n",
            "Epoch 20: loss improved from 2.36570 to 2.24020, saving model to next_word.h5\n",
            "1126/1126 [==============================] - 16s 14ms/step - loss: 2.2402 - accuracy: 0.4578 - lr: 0.0010\n",
            "Epoch 21/80\n",
            "1125/1126 [============================>.] - ETA: 0s - loss: 2.1166 - accuracy: 0.4801\n",
            "Epoch 21: loss improved from 2.24020 to 2.11678, saving model to next_word.h5\n",
            "1126/1126 [==============================] - 16s 14ms/step - loss: 2.1168 - accuracy: 0.4801 - lr: 0.0010\n",
            "Epoch 22/80\n",
            "1124/1126 [============================>.] - ETA: 0s - loss: 2.0080 - accuracy: 0.5018\n",
            "Epoch 22: loss improved from 2.11678 to 2.00807, saving model to next_word.h5\n",
            "1126/1126 [==============================] - 16s 14ms/step - loss: 2.0081 - accuracy: 0.5017 - lr: 0.0010\n",
            "Epoch 23/80\n",
            "1125/1126 [============================>.] - ETA: 0s - loss: 1.8999 - accuracy: 0.5222\n",
            "Epoch 23: loss improved from 2.00807 to 1.90010, saving model to next_word.h5\n",
            "1126/1126 [==============================] - 16s 15ms/step - loss: 1.9001 - accuracy: 0.5222 - lr: 0.0010\n",
            "Epoch 24/80\n",
            "1126/1126 [==============================] - ETA: 0s - loss: 1.8056 - accuracy: 0.5420\n",
            "Epoch 24: loss improved from 1.90010 to 1.80556, saving model to next_word.h5\n",
            "1126/1126 [==============================] - 16s 15ms/step - loss: 1.8056 - accuracy: 0.5420 - lr: 0.0010\n",
            "Epoch 25/80\n",
            "1125/1126 [============================>.] - ETA: 0s - loss: 1.7122 - accuracy: 0.5597\n",
            "Epoch 25: loss improved from 1.80556 to 1.71224, saving model to next_word.h5\n",
            "1126/1126 [==============================] - 16s 14ms/step - loss: 1.7122 - accuracy: 0.5597 - lr: 0.0010\n",
            "Epoch 26/80\n",
            "1123/1126 [============================>.] - ETA: 0s - loss: 1.6231 - accuracy: 0.5798\n",
            "Epoch 26: loss improved from 1.71224 to 1.62324, saving model to next_word.h5\n",
            "1126/1126 [==============================] - 16s 14ms/step - loss: 1.6232 - accuracy: 0.5798 - lr: 0.0010\n",
            "Epoch 27/80\n",
            "1123/1126 [============================>.] - ETA: 0s - loss: 1.5374 - accuracy: 0.5980\n",
            "Epoch 27: loss improved from 1.62324 to 1.53769, saving model to next_word.h5\n",
            "1126/1126 [==============================] - 15s 14ms/step - loss: 1.5377 - accuracy: 0.5979 - lr: 0.0010\n",
            "Epoch 28/80\n",
            "1124/1126 [============================>.] - ETA: 0s - loss: 1.4609 - accuracy: 0.6151\n",
            "Epoch 28: loss improved from 1.53769 to 1.46168, saving model to next_word.h5\n",
            "1126/1126 [==============================] - 15s 14ms/step - loss: 1.4617 - accuracy: 0.6149 - lr: 0.0010\n",
            "Epoch 29/80\n",
            "1124/1126 [============================>.] - ETA: 0s - loss: 1.3812 - accuracy: 0.6339\n",
            "Epoch 29: loss improved from 1.46168 to 1.38099, saving model to next_word.h5\n",
            "1126/1126 [==============================] - 15s 14ms/step - loss: 1.3810 - accuracy: 0.6340 - lr: 0.0010\n",
            "Epoch 30/80\n",
            "1126/1126 [==============================] - ETA: 0s - loss: 1.3144 - accuracy: 0.6482\n",
            "Epoch 30: loss improved from 1.38099 to 1.31436, saving model to next_word.h5\n",
            "1126/1126 [==============================] - 15s 14ms/step - loss: 1.3144 - accuracy: 0.6482 - lr: 0.0010\n",
            "Epoch 31/80\n",
            "1123/1126 [============================>.] - ETA: 0s - loss: 1.2477 - accuracy: 0.6632\n",
            "Epoch 31: loss improved from 1.31436 to 1.24759, saving model to next_word.h5\n",
            "1126/1126 [==============================] - 15s 14ms/step - loss: 1.2476 - accuracy: 0.6633 - lr: 0.0010\n",
            "Epoch 32/80\n",
            "1125/1126 [============================>.] - ETA: 0s - loss: 1.1833 - accuracy: 0.6788\n",
            "Epoch 32: loss improved from 1.24759 to 1.18323, saving model to next_word.h5\n",
            "1126/1126 [==============================] - 15s 14ms/step - loss: 1.1832 - accuracy: 0.6788 - lr: 0.0010\n",
            "Epoch 33/80\n",
            "1126/1126 [==============================] - ETA: 0s - loss: 1.1241 - accuracy: 0.6911\n",
            "Epoch 33: loss improved from 1.18323 to 1.12413, saving model to next_word.h5\n",
            "1126/1126 [==============================] - 16s 14ms/step - loss: 1.1241 - accuracy: 0.6911 - lr: 0.0010\n",
            "Epoch 34/80\n",
            "1126/1126 [==============================] - ETA: 0s - loss: 1.0678 - accuracy: 0.7058\n",
            "Epoch 34: loss improved from 1.12413 to 1.06783, saving model to next_word.h5\n",
            "1126/1126 [==============================] - 15s 14ms/step - loss: 1.0678 - accuracy: 0.7058 - lr: 0.0010\n",
            "Epoch 35/80\n",
            "1124/1126 [============================>.] - ETA: 0s - loss: 1.0163 - accuracy: 0.7175\n",
            "Epoch 35: loss improved from 1.06783 to 1.01638, saving model to next_word.h5\n",
            "1126/1126 [==============================] - 15s 14ms/step - loss: 1.0164 - accuracy: 0.7176 - lr: 0.0010\n",
            "Epoch 36/80\n",
            "1123/1126 [============================>.] - ETA: 0s - loss: 0.9617 - accuracy: 0.7320\n",
            "Epoch 36: loss improved from 1.01638 to 0.96220, saving model to next_word.h5\n",
            "1126/1126 [==============================] - 15s 14ms/step - loss: 0.9622 - accuracy: 0.7320 - lr: 0.0010\n",
            "Epoch 37/80\n",
            "1126/1126 [==============================] - ETA: 0s - loss: 0.9168 - accuracy: 0.7422\n",
            "Epoch 37: loss improved from 0.96220 to 0.91685, saving model to next_word.h5\n",
            "1126/1126 [==============================] - 16s 14ms/step - loss: 0.9168 - accuracy: 0.7422 - lr: 0.0010\n",
            "Epoch 38/80\n",
            "1124/1126 [============================>.] - ETA: 0s - loss: 0.8726 - accuracy: 0.7543\n",
            "Epoch 38: loss improved from 0.91685 to 0.87299, saving model to next_word.h5\n",
            "1126/1126 [==============================] - 15s 14ms/step - loss: 0.8730 - accuracy: 0.7543 - lr: 0.0010\n",
            "Epoch 39/80\n",
            "1126/1126 [==============================] - ETA: 0s - loss: 0.8325 - accuracy: 0.7636\n",
            "Epoch 39: loss improved from 0.87299 to 0.83248, saving model to next_word.h5\n",
            "1126/1126 [==============================] - 15s 14ms/step - loss: 0.8325 - accuracy: 0.7636 - lr: 0.0010\n",
            "Epoch 40/80\n",
            "1124/1126 [============================>.] - ETA: 0s - loss: 0.7938 - accuracy: 0.7749\n",
            "Epoch 40: loss improved from 0.83248 to 0.79427, saving model to next_word.h5\n",
            "1126/1126 [==============================] - 15s 14ms/step - loss: 0.7943 - accuracy: 0.7749 - lr: 0.0010\n",
            "Epoch 41/80\n",
            "1126/1126 [==============================] - ETA: 0s - loss: 0.7607 - accuracy: 0.7836\n",
            "Epoch 41: loss improved from 0.79427 to 0.76068, saving model to next_word.h5\n",
            "1126/1126 [==============================] - 16s 14ms/step - loss: 0.7607 - accuracy: 0.7836 - lr: 0.0010\n",
            "Epoch 42/80\n",
            "1126/1126 [==============================] - ETA: 0s - loss: 0.7289 - accuracy: 0.7913\n",
            "Epoch 42: loss improved from 0.76068 to 0.72885, saving model to next_word.h5\n",
            "1126/1126 [==============================] - 16s 14ms/step - loss: 0.7289 - accuracy: 0.7913 - lr: 0.0010\n",
            "Epoch 43/80\n",
            "1126/1126 [==============================] - ETA: 0s - loss: 0.6995 - accuracy: 0.7991\n",
            "Epoch 43: loss improved from 0.72885 to 0.69945, saving model to next_word.h5\n",
            "1126/1126 [==============================] - 16s 14ms/step - loss: 0.6995 - accuracy: 0.7991 - lr: 0.0010\n",
            "Epoch 44/80\n",
            "1124/1126 [============================>.] - ETA: 0s - loss: 0.6691 - accuracy: 0.8063\n",
            "Epoch 44: loss improved from 0.69945 to 0.66945, saving model to next_word.h5\n",
            "1126/1126 [==============================] - 15s 14ms/step - loss: 0.6694 - accuracy: 0.8062 - lr: 0.0010\n",
            "Epoch 45/80\n",
            "1126/1126 [==============================] - ETA: 0s - loss: 0.6494 - accuracy: 0.8119\n",
            "Epoch 45: loss improved from 0.66945 to 0.64941, saving model to next_word.h5\n",
            "1126/1126 [==============================] - 15s 14ms/step - loss: 0.6494 - accuracy: 0.8119 - lr: 0.0010\n",
            "Epoch 46/80\n",
            "1126/1126 [==============================] - ETA: 0s - loss: 0.6246 - accuracy: 0.8188\n",
            "Epoch 46: loss improved from 0.64941 to 0.62459, saving model to next_word.h5\n",
            "1126/1126 [==============================] - 15s 14ms/step - loss: 0.6246 - accuracy: 0.8188 - lr: 0.0010\n",
            "Epoch 47/80\n",
            "1124/1126 [============================>.] - ETA: 0s - loss: 0.5998 - accuracy: 0.8253\n",
            "Epoch 47: loss improved from 0.62459 to 0.59992, saving model to next_word.h5\n",
            "1126/1126 [==============================] - 16s 14ms/step - loss: 0.5999 - accuracy: 0.8253 - lr: 0.0010\n",
            "Epoch 48/80\n",
            "1126/1126 [==============================] - ETA: 0s - loss: 0.5828 - accuracy: 0.8301\n",
            "Epoch 48: loss improved from 0.59992 to 0.58281, saving model to next_word.h5\n",
            "1126/1126 [==============================] - 15s 14ms/step - loss: 0.5828 - accuracy: 0.8301 - lr: 0.0010\n",
            "Epoch 49/80\n",
            "1122/1126 [============================>.] - ETA: 0s - loss: 0.5642 - accuracy: 0.8339\n",
            "Epoch 49: loss improved from 0.58281 to 0.56459, saving model to next_word.h5\n",
            "1126/1126 [==============================] - 15s 14ms/step - loss: 0.5646 - accuracy: 0.8338 - lr: 0.0010\n",
            "Epoch 50/80\n",
            "1123/1126 [============================>.] - ETA: 0s - loss: 0.5496 - accuracy: 0.8396\n",
            "Epoch 50: loss improved from 0.56459 to 0.55001, saving model to next_word.h5\n",
            "1126/1126 [==============================] - 15s 14ms/step - loss: 0.5500 - accuracy: 0.8394 - lr: 0.0010\n",
            "Epoch 51/80\n",
            "1123/1126 [============================>.] - ETA: 0s - loss: 0.5361 - accuracy: 0.8415\n",
            "Epoch 51: loss improved from 0.55001 to 0.53634, saving model to next_word.h5\n",
            "1126/1126 [==============================] - 15s 14ms/step - loss: 0.5363 - accuracy: 0.8415 - lr: 0.0010\n",
            "Epoch 52/80\n",
            "1123/1126 [============================>.] - ETA: 0s - loss: 0.5218 - accuracy: 0.8456\n",
            "Epoch 52: loss improved from 0.53634 to 0.52201, saving model to next_word.h5\n",
            "1126/1126 [==============================] - 15s 14ms/step - loss: 0.5220 - accuracy: 0.8455 - lr: 0.0010\n",
            "Epoch 53/80\n",
            "1124/1126 [============================>.] - ETA: 0s - loss: 0.5057 - accuracy: 0.8499\n",
            "Epoch 53: loss improved from 0.52201 to 0.50596, saving model to next_word.h5\n",
            "1126/1126 [==============================] - 15s 13ms/step - loss: 0.5060 - accuracy: 0.8498 - lr: 0.0010\n",
            "Epoch 54/80\n",
            "1125/1126 [============================>.] - ETA: 0s - loss: 0.4987 - accuracy: 0.8508\n",
            "Epoch 54: loss improved from 0.50596 to 0.49877, saving model to next_word.h5\n",
            "1126/1126 [==============================] - 15s 13ms/step - loss: 0.4988 - accuracy: 0.8508 - lr: 0.0010\n",
            "Epoch 55/80\n",
            "1126/1126 [==============================] - ETA: 0s - loss: 0.4849 - accuracy: 0.8546\n",
            "Epoch 55: loss improved from 0.49877 to 0.48492, saving model to next_word.h5\n",
            "1126/1126 [==============================] - 15s 13ms/step - loss: 0.4849 - accuracy: 0.8546 - lr: 0.0010\n",
            "Epoch 56/80\n",
            "1123/1126 [============================>.] - ETA: 0s - loss: 0.4787 - accuracy: 0.8562\n",
            "Epoch 56: loss improved from 0.48492 to 0.47874, saving model to next_word.h5\n",
            "1126/1126 [==============================] - 16s 14ms/step - loss: 0.4787 - accuracy: 0.8561 - lr: 0.0010\n",
            "Epoch 57/80\n",
            "1123/1126 [============================>.] - ETA: 0s - loss: 0.4708 - accuracy: 0.8571\n",
            "Epoch 57: loss improved from 0.47874 to 0.47067, saving model to next_word.h5\n",
            "1126/1126 [==============================] - 16s 14ms/step - loss: 0.4707 - accuracy: 0.8571 - lr: 0.0010\n",
            "Epoch 58/80\n",
            "1125/1126 [============================>.] - ETA: 0s - loss: 0.4576 - accuracy: 0.8602\n",
            "Epoch 58: loss improved from 0.47067 to 0.45768, saving model to next_word.h5\n",
            "1126/1126 [==============================] - 15s 14ms/step - loss: 0.4577 - accuracy: 0.8602 - lr: 0.0010\n",
            "Epoch 59/80\n",
            "1123/1126 [============================>.] - ETA: 0s - loss: 0.4536 - accuracy: 0.8619\n",
            "Epoch 59: loss improved from 0.45768 to 0.45357, saving model to next_word.h5\n",
            "1126/1126 [==============================] - 16s 14ms/step - loss: 0.4536 - accuracy: 0.8619 - lr: 0.0010\n",
            "Epoch 60/80\n",
            "1124/1126 [============================>.] - ETA: 0s - loss: 0.4444 - accuracy: 0.8636\n",
            "Epoch 60: loss improved from 0.45357 to 0.44466, saving model to next_word.h5\n",
            "1126/1126 [==============================] - 15s 14ms/step - loss: 0.4447 - accuracy: 0.8635 - lr: 0.0010\n",
            "Epoch 61/80\n",
            "1126/1126 [==============================] - ETA: 0s - loss: 0.4400 - accuracy: 0.8632\n",
            "Epoch 61: loss improved from 0.44466 to 0.44005, saving model to next_word.h5\n",
            "1126/1126 [==============================] - 15s 14ms/step - loss: 0.4400 - accuracy: 0.8632 - lr: 0.0010\n",
            "Epoch 62/80\n",
            "1123/1126 [============================>.] - ETA: 0s - loss: 0.4341 - accuracy: 0.8638\n",
            "Epoch 62: loss improved from 0.44005 to 0.43428, saving model to next_word.h5\n",
            "1126/1126 [==============================] - 15s 14ms/step - loss: 0.4343 - accuracy: 0.8638 - lr: 0.0010\n",
            "Epoch 63/80\n",
            "1125/1126 [============================>.] - ETA: 0s - loss: 0.4266 - accuracy: 0.8667\n",
            "Epoch 63: loss improved from 0.43428 to 0.42664, saving model to next_word.h5\n",
            "1126/1126 [==============================] - 15s 14ms/step - loss: 0.4266 - accuracy: 0.8667 - lr: 0.0010\n",
            "Epoch 64/80\n",
            "1125/1126 [============================>.] - ETA: 0s - loss: 0.4250 - accuracy: 0.8668\n",
            "Epoch 64: loss improved from 0.42664 to 0.42498, saving model to next_word.h5\n",
            "1126/1126 [==============================] - 15s 14ms/step - loss: 0.4250 - accuracy: 0.8669 - lr: 0.0010\n",
            "Epoch 65/80\n",
            "1125/1126 [============================>.] - ETA: 0s - loss: 0.4143 - accuracy: 0.8689\n",
            "Epoch 65: loss improved from 0.42498 to 0.41431, saving model to next_word.h5\n",
            "1126/1126 [==============================] - 16s 14ms/step - loss: 0.4143 - accuracy: 0.8688 - lr: 0.0010\n",
            "Epoch 66/80\n",
            "1124/1126 [============================>.] - ETA: 0s - loss: 0.4098 - accuracy: 0.8696\n",
            "Epoch 66: loss improved from 0.41431 to 0.41017, saving model to next_word.h5\n",
            "1126/1126 [==============================] - 16s 14ms/step - loss: 0.4102 - accuracy: 0.8695 - lr: 0.0010\n",
            "Epoch 67/80\n",
            "1124/1126 [============================>.] - ETA: 0s - loss: 0.4097 - accuracy: 0.8683\n",
            "Epoch 67: loss improved from 0.41017 to 0.40966, saving model to next_word.h5\n",
            "1126/1126 [==============================] - 15s 14ms/step - loss: 0.4097 - accuracy: 0.8684 - lr: 0.0010\n",
            "Epoch 68/80\n",
            "1124/1126 [============================>.] - ETA: 0s - loss: 0.4076 - accuracy: 0.8697\n",
            "Epoch 68: loss improved from 0.40966 to 0.40758, saving model to next_word.h5\n",
            "1126/1126 [==============================] - 16s 14ms/step - loss: 0.4076 - accuracy: 0.8698 - lr: 0.0010\n",
            "Epoch 69/80\n",
            "1126/1126 [==============================] - ETA: 0s - loss: 0.3986 - accuracy: 0.8722\n",
            "Epoch 69: loss improved from 0.40758 to 0.39859, saving model to next_word.h5\n",
            "1126/1126 [==============================] - 16s 14ms/step - loss: 0.3986 - accuracy: 0.8722 - lr: 0.0010\n",
            "Epoch 70/80\n",
            "1123/1126 [============================>.] - ETA: 0s - loss: 0.3962 - accuracy: 0.8709\n",
            "Epoch 70: loss improved from 0.39859 to 0.39644, saving model to next_word.h5\n",
            "1126/1126 [==============================] - 16s 14ms/step - loss: 0.3964 - accuracy: 0.8708 - lr: 0.0010\n",
            "Epoch 71/80\n",
            "1123/1126 [============================>.] - ETA: 0s - loss: 0.3970 - accuracy: 0.8710\n",
            "Epoch 71: loss did not improve from 0.39644\n",
            "1126/1126 [==============================] - 15s 14ms/step - loss: 0.3972 - accuracy: 0.8709 - lr: 0.0010\n",
            "Epoch 72/80\n",
            "1122/1126 [============================>.] - ETA: 0s - loss: 0.3879 - accuracy: 0.8739\n",
            "Epoch 72: loss improved from 0.39644 to 0.38847, saving model to next_word.h5\n",
            "1126/1126 [==============================] - 15s 14ms/step - loss: 0.3885 - accuracy: 0.8738 - lr: 0.0010\n",
            "Epoch 73/80\n",
            "1124/1126 [============================>.] - ETA: 0s - loss: 0.3856 - accuracy: 0.8732\n",
            "Epoch 73: loss improved from 0.38847 to 0.38599, saving model to next_word.h5\n",
            "1126/1126 [==============================] - 15s 14ms/step - loss: 0.3860 - accuracy: 0.8731 - lr: 0.0010\n",
            "Epoch 74/80\n",
            "1126/1126 [==============================] - ETA: 0s - loss: 0.3828 - accuracy: 0.8727\n",
            "Epoch 74: loss improved from 0.38599 to 0.38276, saving model to next_word.h5\n",
            "1126/1126 [==============================] - 15s 14ms/step - loss: 0.3828 - accuracy: 0.8727 - lr: 0.0010\n",
            "Epoch 75/80\n",
            "1125/1126 [============================>.] - ETA: 0s - loss: 0.3808 - accuracy: 0.8741\n",
            "Epoch 75: loss improved from 0.38276 to 0.38084, saving model to next_word.h5\n",
            "1126/1126 [==============================] - 16s 14ms/step - loss: 0.3808 - accuracy: 0.8741 - lr: 0.0010\n",
            "Epoch 76/80\n",
            "1123/1126 [============================>.] - ETA: 0s - loss: 0.3761 - accuracy: 0.8752\n",
            "Epoch 76: loss improved from 0.38084 to 0.37618, saving model to next_word.h5\n",
            "1126/1126 [==============================] - 16s 14ms/step - loss: 0.3762 - accuracy: 0.8752 - lr: 0.0010\n",
            "Epoch 77/80\n",
            "1126/1126 [==============================] - ETA: 0s - loss: 0.3753 - accuracy: 0.8737\n",
            "Epoch 77: loss improved from 0.37618 to 0.37530, saving model to next_word.h5\n",
            "1126/1126 [==============================] - 15s 14ms/step - loss: 0.3753 - accuracy: 0.8737 - lr: 0.0010\n",
            "Epoch 78/80\n",
            "1126/1126 [==============================] - ETA: 0s - loss: 0.3727 - accuracy: 0.8744\n",
            "Epoch 78: loss improved from 0.37530 to 0.37266, saving model to next_word.h5\n",
            "1126/1126 [==============================] - 15s 14ms/step - loss: 0.3727 - accuracy: 0.8744 - lr: 0.0010\n",
            "Epoch 79/80\n",
            "1126/1126 [==============================] - ETA: 0s - loss: 0.3718 - accuracy: 0.8748\n",
            "Epoch 79: loss improved from 0.37266 to 0.37183, saving model to next_word.h5\n",
            "1126/1126 [==============================] - 15s 14ms/step - loss: 0.3718 - accuracy: 0.8748 - lr: 0.0010\n",
            "Epoch 80/80\n",
            "1126/1126 [==============================] - ETA: 0s - loss: 0.3676 - accuracy: 0.8744\n",
            "Epoch 80: loss improved from 0.37183 to 0.36763, saving model to next_word.h5\n",
            "1126/1126 [==============================] - 16s 14ms/step - loss: 0.3676 - accuracy: 0.8744 - lr: 0.0010\n"
          ]
        },
        {
          "output_type": "execute_result",
          "data": {
            "text/plain": [
              "<keras.src.callbacks.History at 0x7f83c0199db0>"
            ]
          },
          "metadata": {},
          "execution_count": 30
        }
      ]
    },
    {
      "cell_type": "code",
      "source": [
        "import numpy as np\n",
        "import time\n",
        "from tensorflow.keras.preprocessing.sequence import pad_sequences\n",
        "\n",
        "\n",
        "text = \"License included with\"\n",
        "\n",
        "for i in range(5):\n",
        "    # Tokenize the seed text\n",
        "    token_text = tokenizer.texts_to_sequences([text])[0]\n",
        "\n",
        "    maxlen = 3\n",
        "    padded_token_text = pad_sequences([token_text], maxlen=maxlen, padding='pre')\n",
        "    # Predict the next word\n",
        "    pos = np.argmax(model.predict(padded_token_text), axis=-1)\n",
        "\n",
        "    for word, index in tokenizer.word_index.items():\n",
        "        if index == pos:\n",
        "            text = text + \" \" + word\n",
        "            print(text)\n",
        "            break\n",
        "    time.sleep(2)\n",
        "\n"
      ],
      "metadata": {
        "colab": {
          "base_uri": "https://localhost:8080/"
        },
        "id": "luCHRHYLpHr4",
        "outputId": "5e3ccc36-6841-47da-a68e-1c85dbf593ee"
      },
      "execution_count": 36,
      "outputs": [
        {
          "output_type": "stream",
          "name": "stdout",
          "text": [
            "1/1 [==============================] - 0s 17ms/step\n",
            "License included with this\n",
            "1/1 [==============================] - 0s 25ms/step\n",
            "License included with this ebook\n",
            "1/1 [==============================] - 0s 18ms/step\n",
            "License included with this ebook or\n",
            "1/1 [==============================] - 0s 25ms/step\n",
            "License included with this ebook or online\n",
            "1/1 [==============================] - 0s 19ms/step\n",
            "License included with this ebook or online at\n"
          ]
        }
      ]
    },
    {
      "cell_type": "code",
      "source": [],
      "metadata": {
        "id": "Pm4c_X_FpS72"
      },
      "execution_count": null,
      "outputs": []
    },
    {
      "cell_type": "code",
      "source": [
        "import numpy as np\n",
        "import time\n",
        "from tensorflow.keras.preprocessing.sequence import pad_sequences\n",
        "\n",
        "\n",
        "text = \"every member of the family\"\n",
        "\n",
        "for i in range(5):\n",
        "    # Tokenize the seed text\n",
        "    token_text = tokenizer.texts_to_sequences([text])[0]\n",
        "\n",
        "    maxlen = 3\n",
        "    padded_token_text = pad_sequences([token_text], maxlen=maxlen, padding='pre')\n",
        "    # Predict the next word\n",
        "    pos = np.argmax(model.predict(padded_token_text), axis=-1)\n",
        "\n",
        "    for word, index in tokenizer.word_index.items():\n",
        "        if index == pos:\n",
        "            text = text + \" \" + word\n",
        "            print(text)\n",
        "            break\n",
        "    time.sleep(2)\n"
      ],
      "metadata": {
        "colab": {
          "base_uri": "https://localhost:8080/"
        },
        "outputId": "acc44436-5935-4981-8169-d384e40e776c",
        "id": "qiF-GVjYpp8D"
      },
      "execution_count": 37,
      "outputs": [
        {
          "output_type": "stream",
          "name": "stdout",
          "text": [
            "1/1 [==============================] - 0s 23ms/step\n",
            "every member of the family would\n",
            "1/1 [==============================] - 0s 18ms/step\n",
            "every member of the family would come\n",
            "1/1 [==============================] - 0s 18ms/step\n",
            "every member of the family would come down\n",
            "1/1 [==============================] - 0s 18ms/step\n",
            "every member of the family would come down and\n",
            "1/1 [==============================] - 0s 17ms/step\n",
            "every member of the family would come down and talk\n"
          ]
        }
      ]
    },
    {
      "cell_type": "code",
      "source": [],
      "metadata": {
        "id": "mrV2THdGp7W3"
      },
      "execution_count": null,
      "outputs": []
    }
  ]
}